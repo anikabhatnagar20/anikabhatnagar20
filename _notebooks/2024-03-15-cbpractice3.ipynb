{
 "cells": [
  {
   "cell_type": "markdown",
   "metadata": {},
   "source": [
    "---\n",
    "toc: true\n",
    "comments: false\n",
    "layout: post\n",
    "title: College Board Questions MC Correction \n",
    "description: This is a reflection on my MC, I am noting down the specific questions I got wrong and why. \n",
    "type: tangibles\n",
    "courses: { compsci: {week: 21} }\n",
    "---"
   ]
  },
  {
   "cell_type": "markdown",
   "metadata": {},
   "source": [
    "# Overall Score: 52/70\n",
    "I think I got a lower score because I felt rushed trying to finish this long mc in just one class period. \n",
    "\n",
    "## Question 3 \n",
    "\n",
    "![Image](https://github.com/nighthawkcoders/teacher_portfolio/assets/142547044/bfc690dc-91c0-4945-8df9-0aa1012ea1b7)\n",
    "\n",
    "I chose option D but the correct one was A. The variable second was 200, though it points to temp, which is 100, meaning that the actual value would be 100, rather than 200. This is why option A is correct. \n",
    "\n",
    "## Question 10\n",
    "\n",
    "![Image](https://github.com/nighthawkcoders/teacher_portfolio/assets/142547044/35d4b368-05c3-493e-952c-8fe6bd70e721)\n",
    "\n",
    "For this one I miscalulated. 48 would be 110000, the rigth answer would be 24 which is C. \n",
    "\n",
    "## Question 12\n",
    "\n",
    "![Image](https://github.com/nighthawkcoders/teacher_portfolio/assets/142547044/464e7592-9a80-42c3-8bf1-aeb2e81f532d)\n",
    "![Image](https://github.com/nighthawkcoders/teacher_portfolio/assets/142547044/b9f73e76-3b28-4bd9-bef6-77715031278c)\n",
    "\n",
    "Option B would not code segment continues in an infinite loop but the robot would not be able to move forward. But option C would eventually get the robot in the correct box. \n",
    "\n",
    "## Question 14 \n",
    "\n",
    "![Image](https://github.com/nighthawkcoders/teacher_portfolio/assets/142547044/8db58276-7e94-4521-a35c-3edcd8a5d097)\n",
    "\n",
    "B is wrong because with this change, if the method finds a number that is bigger than or the same as the one before it, it will say true right away and won't look at any more numbers.\n",
    "\n",
    "## Question 17 \n",
    "\n",
    "![Image](https://github.com/nighthawkcoders/teacher_portfolio/assets/142547044/94c51c1a-5e1d-4139-9222-45098c9df41d)\n",
    "\n"
   ]
  }
 ],
 "metadata": {
  "language_info": {
   "name": "python"
  },
  "orig_nbformat": 4
 },
 "nbformat": 4,
 "nbformat_minor": 2
}
