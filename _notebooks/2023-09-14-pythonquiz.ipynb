{
 "cells": [
  {
   "cell_type": "markdown",
   "metadata": {},
   "source": [
    "---\n",
    "toc: true\n",
    "comments: false\n",
    "layout: post\n",
    "title: Pythoon quiz\n",
    "description: Python quiz to show knowledge of python\n",
    "type: hacks\n",
    "courses: { compsci: {week: 2} }\n",
    "---"
   ]
  },
  {
   "cell_type": "code",
   "execution_count": null,
   "metadata": {},
   "outputs": [],
   "source": [
    "class Question:\n",
    "    def __init__(self, text, choices, correct_choice):\n",
    "        self.text = text\n",
    "        self.choices = choices\n",
    "        self.correct_choice = correct_choice\n",
    "\n",
    "    def is_correct(self, user_choice):\n",
    "        return user_choice == self.correct_choice\n",
    "\n",
    "\n",
    "class Quiz:\n",
    "    def __init__(self, questions):\n",
    "        self.questions = questions\n",
    "        self.score = 0\n",
    "        self.current_question_index = 0\n",
    "\n",
    "    def get_current_question(self):\n",
    "        return self.questions[self.current_question_index]\n",
    "\n",
    "    def display_question(self):\n",
    "        current_question = self.get_current_question()\n",
    "        print(current_question.text)\n",
    "        for index, choice in enumerate(current_question.choices, start=1):\n",
    "            print(f\"{index}. {choice}\")\n",
    "        user_choice = input(\"Enter the number of your choice: \")\n",
    "        return int(user_choice)\n",
    "\n",
    "    def play(self):\n",
    "        for question in self.questions:\n",
    "            user_choice = self.display_question()\n",
    "            if question.is_correct(user_choice):\n",
    "                print(\"Correct!\\n\")\n",
    "                self.score += 1\n",
    "            else:\n",
    "                print(\"Incorrect.\\n\")\n",
    "            self.current_question_index += 1\n",
    "        print(f\"You scored {self.score}/{len(self.questions)}\")\n",
    "\n",
    "\n",
    "# Create some quiz questions\n",
    "questions = [\n",
    "    Question(\"What is the capital of France?\", [\"Paris\", \"London\", \"Berlin\"], 1),\n",
    "    Question(\"Which planet is known as the Red Planet?\", [\"Mars\", \"Venus\", \"Jupiter\"], 0),\n",
    "    Question(\"What is the largest mammal on Earth?\", [\"Elephant\", \"Giraffe\", \"Blue Whale\"], 2),\n",
    "]\n",
    "\n",
    "# Create a quiz with the questions\n",
    "quiz = Quiz(questions)\n",
    "\n",
    "# Start the quiz\n",
    "print(\"Welcome to the General Knowledge Quiz!\")\n",
    "quiz.play()\n",
    "\n"
   ]
  }
 ],
 "metadata": {
  "language_info": {
   "name": "python"
  },
  "orig_nbformat": 4
 },
 "nbformat": 4,
 "nbformat_minor": 2
}
