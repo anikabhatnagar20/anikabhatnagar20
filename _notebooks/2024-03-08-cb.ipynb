{
 "cells": [
  {
   "cell_type": "markdown",
   "metadata": {},
   "source": [
    "CB Requirements\n",
    "Instructions for input from one of the following: the user, a device, an online datas stream, a file.\n",
    "The input would be the user for this page. The login action by the user triggers the homepage with its features that then can use after logging in, initiating a interaction between the user and the system.\n",
    "\n",
    "Use of at least one list (or other collection type) to represent a collection of data that is stored and used to manage program complexity and help fulfill the users purpose.\n",
    "An example of a collection of data would be the data being stored in the backend. A collection of data is being stored in SQLITE3 database tables. It has the data for the users to be able to log in and access the pages.\n",
    "\n",
    "At least one procedure that contributed to the program’s intended purpose where you have defined: the name, return type, one or more parameters:\n",
    "image\n",
    "In the Sign up Page, the function signUp_api that takes four parameters (name, uid, pw, dob) and creates a request to sign up a user\n",
    "\n",
    "An algorithm that includes sequencing, selection, and iteration that is in the body of the selected procedure\n",
    "image\n",
    "signUp_user function is a sequence leading to call to the function (signUp_api)\n",
    "\n",
    "Calls to your student-developed procedure\n",
    "image\n",
    "The signUp_user passes the name, user ID, password, and dob to the signUp_api function, which uses this data to make a POST request to create a new user account.\n",
    "\n",
    "Instructions for output (tactile, audible, visual, or ) based on input and program functionality\n",
    "image"
   ]
  }
 ],
 "metadata": {
  "language_info": {
   "name": "python"
  },
  "orig_nbformat": 4
 },
 "nbformat": 4,
 "nbformat_minor": 2
}
