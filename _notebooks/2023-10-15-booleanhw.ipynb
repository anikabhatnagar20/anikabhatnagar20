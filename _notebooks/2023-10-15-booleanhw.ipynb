{
 "cells": [
  {
   "cell_type": "markdown",
   "metadata": {},
   "source": [
    "---\n",
    "toc: false\n",
    "comments: true\n",
    "layout: post\n",
    "title: boolean hw\n",
    "description: Student teaching\n",
    "type: plans\n",
    "courses: { compsci: {week: 5} }\n",
    "---"
   ]
  },
  {
   "cell_type": "code",
   "execution_count": 1,
   "metadata": {},
   "outputs": [
    {
     "name": "stdout",
     "output_type": "stream",
     "text": [
      "Bob's Homework Grading System.\n"
     ]
    }
   ],
   "source": [
    "isComplete = {'Student 1': 1, 'Student 2': 1, 'Student 3': 0, 'Student 4': 1, 'Student 5': 0, 'Student 6': 1}\n",
    "isOnTime = {'Student 1': 1, 'Student 2': 0, 'Student 3': 0, 'Student 4': 1, 'Student 5': 1, 'Student 6': 1}\n",
    "| A | B | A XNOR B |\n",
    "|---|---|----------|\n",
    "| 0 | 0 |    1     |\n",
    "| 0 | 1 |    0     |\n",
    "| 1 | 0 |    0     |\n",
    "| 1 | 1 |    1     |\n",
    "def xor_gate(a, b):\n",
    "    return bool(a ^ b)\n",
    "\n",
    "def not_gate(a):\n",
    "    return not a\n",
    "\n",
    "def xnor_gate(a, b):\n",
    "    return not_gate(xor_gate(a, b))\n",
    "\n",
    "choice = input(\"Choose a function: XNOR(1), NOT(2), XOR(3): \")\n",
    "print(choice)\n",
    "\n",
    "if choice == \"1\":\n",
    "    first_input = bool(int(input(\"Enter first boolean value (0/1): \")))\n",
    "    second_input = bool(int(input(\"Enter second boolean value (0/1): \")))\n",
    "    print(xnor_gate(first_input, second_input))\n",
    "elif choice == \"2\":\n",
    "    first_input = bool(int(input(\"Enter boolean value (0/1): \")))\n",
    "    print(not_gate(first_input))\n",
    "elif choice == \"3\":\n",
    "    first_input = bool(int(input(\"Enter first boolean value (0/1): \")))\n",
    "    second_input = bool(int(input(\"Enter second boolean value (0/1): \")))\n",
    "    print(xor_gate(first_input, second_input))\n",
    "grading_results = {}\n",
    "for student_name in isComplete:\n",
    "    if isComplete[student_name] and isOnTime[student_name]:\n",
    "        grading_results[student_name] = \"Complete\"\n",
    "    else:\n",
    "        grading_results[student_name] = \"Incomplete\"\n",
    "\n",
    "import pandas as pd\n",
    "df = pd.DataFrame.from_dict(grading_results, orient='index', columns=['Status'])\n",
    "print(df)\n"
   ]
  }
 ],
 "metadata": {
  "kernelspec": {
   "display_name": "base",
   "language": "python",
   "name": "python3"
  },
  "language_info": {
   "codemirror_mode": {
    "name": "ipython",
    "version": 3
   },
   "file_extension": ".py",
   "mimetype": "text/x-python",
   "name": "python",
   "nbconvert_exporter": "python",
   "pygments_lexer": "ipython3",
   "version": "3.11.4"
  },
  "orig_nbformat": 4
 },
 "nbformat": 4,
 "nbformat_minor": 2
}
