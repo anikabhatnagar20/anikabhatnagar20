{
 "cells": [
  {
   "cell_type": "markdown",
   "metadata": {},
   "source": [
    "---\n",
    "toc: false\n",
    "comments: true\n",
    "layout: post\n",
    "title: boolean hw\n",
    "description: Student teaching\n",
    "type: plans\n",
    "courses: { compsci: {week: 5} }\n",
    "---"
   ]
  },
  {
   "cell_type": "code",
   "execution_count": null,
   "metadata": {},
   "outputs": [],
   "source": [
    "def AND_gate(a, b):\n",
    "    return a and b\n",
    "\n",
    "def OR_gate(a, b):\n",
    "    return a or b\n",
    "\n",
    "# Function to grade homework\n",
    "def grade_homework(problems_completed, submitted_on_time):\n",
    "    incomplete = OR_gate(NOT_gate(problems_completed), NOT_gate(submitted_on_time))\n",
    "    return not incomplete\n",
    "\n",
    "# NOT gate implementation\n",
    "def NOT_gate(a):\n",
    "    return not a\n",
    "\n",
    "# Interactive program for Bob to grade homework\n",
    "def main():\n",
    "    print(\"Bob's Homework Grading System.\")\n",
    "    problems_completed = input(\"Did the student complete all the problems? (yes/no): \").lower()\n",
    "    submitted_on_time = input(\"Did the student submit the homework on time? (yes/no): \").lower()\n",
    "\n",
    "    if grade_homework(problems_completed == 'yes', submitted_on_time == 'yes'):\n",
    "        print(\"The student has completed the homework on time!\")\n",
    "    else:\n",
    "        print(\"The student's homework is not finished and/or not submitted on time.\")\n",
    "\n",
    "# Running the program\n",
    "main()"
   ]
  }
 ],
 "metadata": {
  "language_info": {
   "name": "python"
  },
  "orig_nbformat": 4
 },
 "nbformat": 4,
 "nbformat_minor": 2
}
