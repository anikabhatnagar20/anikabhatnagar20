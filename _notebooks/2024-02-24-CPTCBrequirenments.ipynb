{
 "cells": [
  {
   "cell_type": "markdown",
   "metadata": {},
   "source": [
    "---\n",
    "toc: true\n",
    "comments: true\n",
    "layout: post\n",
    "title: CPT requirements\n",
    "description: Individual features\n",
    "courses: {'compsci': {'week': 21}}\n",
    "type: tangibles\n",
    "---"
   ]
  },
  {
   "cell_type": "markdown",
   "metadata": {},
   "source": [
    "# Features\n",
    "Thoughout this trimester there are a couple of pages I have been working on. I have created a login/signup page, a home page, and a book catalog. \n",
    "\n",
    "# CB Requirements\n",
    "## Instructions for input from one of the following: the user, a device, an online datas stream, a file.\n",
    "\n",
    "The input would be the user for this page. The login action by the user triggers the homepage with its features that then can use after logging in, initiating a interaction between the user and the system.\n",
    "\n",
    "## Use of at least one list (or other collection type) to represent a collectino of data that is stored and used to manage program complexity and help fulfill the users purpose.\n",
    "\n",
    "An example of a collection of data would be the data being stored in the backend. A collection of data is being stored in SQLITE3 database tables. It has the data for teh users to be able to log in and access the pages. \n",
    "\n",
    "## At least one procedure that contributed to the program’s intended purpose where you have defined: the name, return type, one or more parameters: \n"
   ]
  }
 ],
 "metadata": {
  "language_info": {
   "name": "python"
  },
  "orig_nbformat": 4
 },
 "nbformat": 4,
 "nbformat_minor": 2
}
