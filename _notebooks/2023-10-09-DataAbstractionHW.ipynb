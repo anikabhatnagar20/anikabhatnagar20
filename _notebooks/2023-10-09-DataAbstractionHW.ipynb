{
 "cells": [
  {
   "cell_type": "code",
   "execution_count": null,
   "metadata": {},
   "outputs": [],
   "source": [
    "class Person:\n",
    "    def __init__(self, name, age):\n",
    "        self.name = name\n",
    "        self.age = age\n",
    "\n",
    "def print_people(people):\n",
    "    for person in people:\n",
    "        print(f'{person.name}: Age {person.age}')\n",
    "\n",
    "def find_oldest_person(people_dict):\n",
    "    oldest_age = float('-inf')\n",
    "    oldest_person = None\n",
    "\n",
    "    for name, age in people_dict.items():\n",
    "        if age > oldest_age:\n",
    "            oldest_age = age\n",
    "            oldest_person = name\n",
    "\n",
    "    if oldest_person:\n",
    "        print(f'The oldest person is: {oldest_person}, Age {oldest_age}')\n",
    "\n",
    "people_list = [\n",
    "    Person('Anika B', 15),\n",
    "    Person('Ananya', 16),\n",
    "    Person('Anika P', 17),\n",
    "    Person('Imaad', 15),\n",
    "    Person('Tanay', 16),\n",
    "\n",
    "]\n",
    "\n",
    "people_dict = {\n",
    "    Person('Anika B', 15),\n",
    "    Person('Ananya', 16),\n",
    "    Person('Anika P', 17),\n",
    "    Person('Imaad', 15),\n",
    "    Person('Tanay', 16),\n",
    "}\n",
    "\n",
    "print('Names and ages from the list of people:')\n",
    "print_people(people_list)\n",
    "\n",
    "print('\\nName of the oldest person from the dictionary:')\n",
    "find_oldest_person(people_dict)"
   ]
  }
 ],
 "metadata": {
  "language_info": {
   "name": "python"
  },
  "orig_nbformat": 4
 },
 "nbformat": 4,
 "nbformat_minor": 2
}
