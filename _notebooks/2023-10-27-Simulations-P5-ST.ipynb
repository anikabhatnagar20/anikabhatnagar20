{
 "cells": [
  {
   "cell_type": "markdown",
   "metadata": {},
   "source": [
    "---\n",
    "comments: true\n",
    "layout: post\n",
    "title: Simulations - Student Teach\n",
    "description: Student Lesson\n",
    "type: hacks\n",
    "courses: { compsci: {week: 2} }\n",
    "---"
   ]
  },
  {
   "cell_type": "markdown",
   "metadata": {},
   "source": [
    "## Simulations \n"
   ]
  },
  {
   "cell_type": "markdown",
   "metadata": {},
   "source": [
    "> A simulation is the use of a computer software to represent the dynamic responses of one system by the behaviour of another system modeled after it. A simulation uses a mathematical descriptions, or models, of a real system in the form of a computer program."
   ]
  },
  {
   "cell_type": "markdown",
   "metadata": {},
   "source": [
    "![simulation](https://www.simscale.com/wp-content/uploads/2022/11/dron-quadcopter-simulation.png)"
   ]
  },
  {
   "cell_type": "markdown",
   "metadata": {},
   "source": [
    "## College Board Essential Knowledge"
   ]
  },
  {
   "cell_type": "markdown",
   "metadata": {},
   "source": [
    "> Simulation are absractions of more complex objects or phenomena for a specific purpose \n",
    "\n",
    "- Mimic Real World Events\n",
    "- Allows investigation of phenomenons without contraints of the Real World\n",
    "- Helps you draw accurate inferences\n",
    "\n",
    "> Simulations utilize varying sets of values to reflect the changings states of a phenomenon\n",
    "\n",
    "- simulations can simplfly things for functionality\n",
    "- Simulations can contain bias from real world elements, that were chosen to be included or excluded\n",
    "\n",
    "> Simulations work best when the real world experemnts are too impractical or time consuming. For example, simulating how different cars behave when they crash, would be much better than crashng actual cars in the real world, which would be expensive and dangerous.\n",
    "\n",
    "<a href=\"https://ibb.co/f4jKcBY\"><img src=\"https://i.ibb.co/NZck4Q6/simulations-vs-experiments.png\" alt=\"simulations-vs-experiments\" border=\"0\"></a>\n"
   ]
  },
  {
   "cell_type": "markdown",
   "metadata": {},
   "source": [
    "## Rolling the Dice"
   ]
  },
  {
   "cell_type": "markdown",
   "metadata": {},
   "source": [
    "<a href=\"https://ibb.co/PGBhfPD\"><img src=\"https://i.ibb.co/XxmsvKY/craps-rolling-seven-7.jpg\" alt=\"craps-rolling-seven-7\" border=\"0\"></a>\n",
    "\n",
    "> Simulating something like a dice roll in real life would require accounting for things like: weight, flaws in design, thrust, and gravity.\n",
    "- KEEP IT SIMPLE! just use a random-number generator! Ignore minor causes of variablility"
   ]
  },
  {
   "cell_type": "markdown",
   "metadata": {},
   "source": [
    "## Random"
   ]
  },
  {
   "cell_type": "markdown",
   "metadata": {},
   "source": [
    "- \"Random\" is a built-in python function that allow the user to draw a random value from a set range.\n",
    "- A Random Number Generator (RNG) is a common simulation that selects a random value from an array.\n",
    "- The following code cell utilizes \"random\" to select a number from 1 to 100."
   ]
  },
  {
   "cell_type": "code",
   "execution_count": null,
   "metadata": {},
   "outputs": [],
   "source": [
    "#imports random module so we can use it in our code\n",
    "import random\n",
    "\n",
    "#sets variable random_number as a random number between 1 and 100\n",
    "random_number = random.randint(1, 100)\n",
    "\n",
    "#Printing out your random Number\n",
    "print(random_number)"
   ]
  },
  {
   "cell_type": "markdown",
   "metadata": {},
   "source": [
    "## More complex usage of \"random\"; Coin Toss Simulation"
   ]
  },
  {
   "cell_type": "code",
   "execution_count": null,
   "metadata": {},
   "outputs": [],
   "source": [
    "import random\n",
    "def flip_coin():\n",
    "    return random.choice([\"Heads\", \"Tails\"])\n",
    "def coin_flip_simulation(num_flips):\n",
    "    heads_count = 0\n",
    "    tails_count = 0\n",
    "    for _ in range(num_flips):\n",
    "        result = flip_coin()\n",
    "        if result == \"Heads\":\n",
    "            heads_count += 1\n",
    "        else:\n",
    "            tails_count += 1\n",
    "    return heads_count, tails_count\n",
    "if __name__ == \"__main__\":\n",
    "    num_flips = 1000  #This is the number of coin flips you want to simulate\n",
    "    heads, tails = coin_flip_simulation(num_flips)\n",
    "    print(\"Number of Heads: \"+ str(heads))\n",
    "    print(\"Number of Tails: \" + str(tails))\n",
    "    print(\"Heads Probability: \"+ str({heads / num_flips}))\n",
    "    print(\"Tails Probability: \"+ str({tails / num_flips}))"
   ]
  },
  {
   "cell_type": "markdown",
   "metadata": {},
   "source": [
    "## Popcorn Hack #1"
   ]
  },
  {
   "cell_type": "markdown",
   "metadata": {},
   "source": [
    "Utilize \"random\" to create a basic simulation of a rolling TWO dice. Print the sum of both dice rolls. Remember to practice good syntax when naming your variables. "
   ]
  },
  {
   "cell_type": "code",
   "execution_count": null,
   "metadata": {},
   "outputs": [],
   "source": [
    "# Execute a simulation of rolling two six-sided dice\n",
    "first_die_roll = random.randint(1, 6)  # Generate a random number for the first die\n",
    "second_die_roll = random.randint(1, 6)  # Generate a random number for the second die\n",
    "\n",
    "# Add the values of the two dice to get the total\n",
    "sum_of_dice = first_die_roll + second_die_roll\n",
    "\n",
    "# Display the outcomes of the rolls\n",
    "print(f\"Roll of die one: {first_die_roll}\")\n",
    "print(f\"Roll of die two: {second_die_roll}\")\n",
    "print(f\"Combined total: {sum_of_dice}\")\n",
    "\n",
    "Roll of die one: 3\n",
    "Roll of die two: 6\n",
    "Combined total: 9"
   ]
  },
  {
   "cell_type": "markdown",
   "metadata": {},
   "source": [
    "## Algorithms\n",
    ">Simulations often utilize algorithms and equations to perform tasks because simulations don't always have the same output\n",
    "- the output of a simulation depends on the input\n",
    "\n",
    ">An algorithm is a finite sequence of instructions used to solve problems or perform computations. \n",
    "- commonly used alongside functions\n"
   ]
  },
  {
   "cell_type": "markdown",
   "metadata": {},
   "source": [
    "## Example Algorithm in a function"
   ]
  },
  {
   "cell_type": "code",
   "execution_count": 42,
   "metadata": {},
   "outputs": [
    {
     "data": {
      "text/plain": [
       "7"
      ]
     },
     "execution_count": 42,
     "metadata": {},
     "output_type": "execute_result"
    }
   ],
   "source": [
    "#Defining Function\n",
    "def algorithm(input):\n",
    "    \n",
    "    #Manipulating input and preparing it for the output.  \n",
    "    output = input+2\n",
    "    \n",
    "    #Return the output\n",
    "    return output\n",
    "\n",
    "#Call the Function to start the algorithm\n",
    "algorithm(5)\n",
    "    "
   ]
  },
  {
   "cell_type": "markdown",
   "metadata": {},
   "source": [
    "## Mathematics\n",
    "- Math can also prove to be very useful in certain types of situations.\n",
    "- Commonly used along with Algorithms when simulating various things\n",
    "\n",
    "![math](https://pythontutorialhome.files.wordpress.com/2019/05/image-2.png)\n"
   ]
  },
  {
   "cell_type": "markdown",
   "metadata": {},
   "source": [
    "## Popcorn Hack #2"
   ]
  },
  {
   "cell_type": "markdown",
   "metadata": {},
   "source": [
    "Simulate how long an object will fall for using an algorithm, with user-inputed variables for height dropped. Use the following formula as a reference.\n",
    "\n",
    "![gravity ](https://hepweb.ucsd.edu/ph110b/110b_notes/img272.png)\n",
    "\n",
    "- t = time (output)\n",
    "- h = height dropped from (input)\n",
    "- g = constant (given)"
   ]
  },
  {
   "cell_type": "code",
   "execution_count": null,
   "metadata": {},
   "outputs": [],
   "source": [
    "# Define the gravitational constant in meters per second squared\n",
    "gravitational_constant = 9.81  # This value, 'gravitational_constant', should be used throughout\n",
    "\n",
    "# Prompt the user to input the fall height in meters\n",
    "fall_height_meters = float(input(\"Please input the height (in meters) from which the object will fall: \"))\n",
    "\n",
    "# Compute the fall time using the square root of twice the height divided by gravity\n",
    "time_to_fall = (2 * fall_height_meters / gravitational_constant) ** 0.5\n",
    "\n",
    "# Output the calculated time to the user\n",
    "print(f\"It will take about {time_to_fall:.2f} seconds for the object to hit the ground.\")\n",
    "\n",
    "It will take about 0.78 seconds for the object to hit the ground."
   ]
  },
  {
   "cell_type": "markdown",
   "metadata": {},
   "source": [
    "# Using Loops in Simulations"
   ]
  },
  {
   "cell_type": "markdown",
   "metadata": {},
   "source": [
    "> For loops can also be used in simulations\n",
    "- They can simulate events that repeat but don't always have the same output\n"
   ]
  },
  {
   "cell_type": "code",
   "execution_count": 44,
   "metadata": {},
   "outputs": [
    {
     "name": "stdout",
     "output_type": "stream",
     "text": [
      "This is run number: 0\n",
      "This is run number: 1\n",
      "This is run number: 2\n",
      "This is run number: 3\n"
     ]
    }
   ],
   "source": [
    "# Demonstration of a For Loop\n",
    "\n",
    "# Set up a For Loop to execute four times\n",
    "for iteration in range(4):\n",
    "    \n",
    "    # Perform this action each time through the loop\n",
    "    print(\"Iteration count is currently: \" + str(iteration))"
   ]
  },
  {
   "cell_type": "markdown",
   "metadata": {},
   "source": [
    "## Popcorn Hack #3"
   ]
  },
  {
   "cell_type": "markdown",
   "metadata": {},
   "source": [
    "You are gambling addict (sigma). \n",
    "\n",
    "Each session you roll 2 dice.\n",
    "\n",
    "If your dice roll is greater than or equal to 9 you win the session.\n",
    "\n",
    "If you win over 5 sessions, you win the jackpot.\n",
    "\n",
    "Simulate your odds to predict if you will hit the jackpot (how many rounds did you win?) using a for loop and random.\n"
   ]
  },
  {
   "cell_type": "code",
   "execution_count": null,
   "metadata": {},
   "outputs": [],
   "source": [
    "import random\n",
    "\n",
    "# Set simulation parameters\n",
    "num_simulations = 10000  # Total number of game sessions to be simulated\n",
    "winning_session_count = 5  # Required number of winning sessions to hit the jackpot\n",
    "\n",
    "# Initialize counters for tracking the number of wins and jackpot victories\n",
    "wins_count = 0\n",
    "jackpot_count = 0\n",
    "\n",
    "# Conduct the session simulations\n",
    "for _ in range(num_simulations):\n",
    "    # Generate random outcomes for two dice\n",
    "    die_one = random.randint(1, 6)\n",
    "    die_two = random.randint(1, 6)\n",
    "    \n",
    "    # Sum the outcomes of the dice rolls\n",
    "    total_dice = die_one + die_two\n",
    "    \n",
    "    # Increment win counter if the session is won\n",
    "    if total_dice >= 9:\n",
    "        wins_count += 1\n",
    "    \n",
    "    # Increment jackpot counter if the threshold for jackpot wins is reached\n",
    "    if wins_count >= winning_session_count:\n",
    "        jackpot_count += 1\n",
    "\n",
    "# Output the simulation results\n",
    "print(f\"Ran {num_simulations} gaming sessions.\")\n",
    "print(f\"Wins achieved in separate sessions: {wins_count}\")\n",
    "print(f\"Number of times the jackpot was won (at least 5 session wins): {jackpot_count}\")\n"
   ]
  },
  {
   "cell_type": "markdown",
   "metadata": {},
   "source": [
    "## BONUS POPCORN HACK\n",
    "> Welcome to Flight Simulator! Your goal is to complete a Python program that simulates a flight We've set up some initial values for altitude, speed, and fuel. Your task is to update these values to make the flight more realistic.\n",
    "\n",
    "- Your mission:\n",
    "\n",
    "1. Use random changes to simulate altitude, speed, and fuel changes.\n",
    "2. Keep the flight going until it reaches 10,000 feet or runs out of fuel.\n",
    "3. Make sure altitude, speed, and fuel remain realistic."
   ]
  },
  {
   "cell_type": "code",
   "execution_count": null,
   "metadata": {},
   "outputs": [],
   "source": [
    "current_altitude = 0\n",
    "current_speed = 250  \n",
    "remaining_fuel = 100\n",
    "\n",
    "print(\"Welcome to the Aero Dynamics Simulator!\")\n",
    "\n",
    "max_altitude_variation = 500  \n",
    "max_speed_variation = 10  \n",
    "rate_of_fuel_use = 0.2  \n",
    "\n",
    "# Flight simulation loop\n",
    "while current_altitude < 10000 and remaining_fuel > 0:\n",
    "    change_in_altitude = random.randint(-max_altitude_variation, max_altitude_variation)\n",
    "    change_in_speed = random.uniform(-max_speed_variation, max_speed_variation)\n",
    "    fuel_used = current_speed * rate_of_fuel_use\n",
    "    \n",
    "    current_altitude = max(0, current_altitude + change_in_altitude)  \n",
    "    current_speed = max(0, current_speed + change_in_speed)  \n",
    "    remaining_fuel = max(0, remaining_fuel - fuel_used)\n",
    "    \n",
    "    print(f\"Current altitude: {current_altitude} feet | Current speed: {current_speed} knots | Remaining fuel: {remaining_fuel:.2f}%\")\n",
    "    \n",
    "# Post-flight status\n",
    "if current_altitude >= 10000:\n",
    "    print(\"You have successfully ascended beyond 10,000 feet. The simulation is a success.\")\n",
    "else:\n",
    "    print(\"The aircraft has run out of fuel and the simulation is now concluded.\")\n"
   ]
  },
  {
   "cell_type": "markdown",
   "metadata": {},
   "source": [
    "## QUIZ TIME"
   ]
  },
  {
   "cell_type": "markdown",
   "metadata": {},
   "source": [
    "- Quick true or false quiz, whoever answers this correctly(raise your hand) gets a piece of gum or a dinero. \n",
    "<hr>\n",
    "\n",
    "> T or F    \n",
    "- A simulation will always have the same result.\n",
    "> T or F    \n",
    "- A simulation investigates a phenomenom without real-world constraints of time, money, or safety.\n",
    "> T or F    \n",
    "- A simulation has results which are more accurate than an experiment,\n",
    "> T or F    \n",
    "- A simulation can model real-worl events that are not practical for experiments"
   ]
  },
  {
   "cell_type": "markdown",
   "metadata": {},
   "source": [
    "## HOMEWORK HACK #1 "
   ]
  },
  {
   "cell_type": "markdown",
   "metadata": {},
   "source": [
    "First finish Popcorn Hack #3. Expand the simulation to involve your own money.\n",
    "\n",
    "starting money: $100\n",
    "\n",
    "(Dice Roll <= 3) &rarr; lose $70\n",
    "\n",
    "( 6> Dice Roll >3) &rarr; lose $40\n",
    "\n",
    "( 9> Dice Roll >=6) &rarr; win $20\n",
    "\n",
    "( Dice Roll>= 9 + Session Win) &rarr; win $50\n",
    "\n",
    "Jackpot &rarr; win $100"
   ]
  },
  {
   "cell_type": "code",
   "execution_count": null,
   "metadata": {},
   "outputs": [],
   "source": [
    "import random\n",
    "\n",
    "initial_funds = 100\n",
    "victorious_sessions = 0\n",
    "accumulated_earnings = 0\n",
    "rounds_completed = 0\n",
    "\n",
    "required_wins_for_jackpot = 5\n",
    "\n",
    "# Run the gambling simulation\n",
    "while victorious_sessions < required_wins_for_jackpot and initial_funds > 0:\n",
    "    first_die = random.randint(1, 6)\n",
    "    second_die = random.randint(1, 6)\n",
    "    sum_of_dice = first_die + second_die\n",
    "    \n",
    "    # Apply the game rules for winning or losing money\n",
    "    if sum_of_dice <= 3:\n",
    "        initial_funds -= 70\n",
    "    elif 4 <= sum_of_dice <= 6:\n",
    "        initial_funds -= 40\n",
    "    elif 7 <= sum_of_dice < 9:\n",
    "        initial_funds += 20\n",
    "    else:  # This covers the case where sum_of_dice >= 9\n",
    "        initial_funds += 50\n",
    "        victorious_sessions += 1\n",
    "    \n",
    "    rounds_completed += 1\n",
    "\n",
    "    # Check for jackpot win condition\n",
    "    if victorious_sessions >= required_wins_for_jackpot:\n",
    "        accumulated_earnings = initial_funds + 100  # Jackpot bonus\n",
    "\n",
    "    # If funds are depleted, end the game\n",
    "    if initial_funds <= 0:\n",
    "        print(f\"Your funds have been depleted after {rounds_completed} rounds.\")\n",
    "        break\n",
    "\n",
    "# Display the results\n",
    "print(f\"Sessions won: {victorious_sessions}\")\n",
    "print(f\"Total earnings: ${accumulated_earnings}\")\n",
    "print(f\"Total rounds: {rounds_completed}\")\n"
   ]
  },
  {
   "cell_type": "markdown",
   "metadata": {},
   "source": [
    "## HOMEWORK HACK #2"
   ]
  },
  {
   "cell_type": "markdown",
   "metadata": {},
   "source": [
    "> Given initial parameters for a car simulation, including its initial speed, acceleration rate, deceleration rate, maximum speed, and initial distance, write a  program to simulate the car's journey and determine the final speed, distance covered, and time taken before it either covers 1000 meters or slows down to below 5 m/s?"
   ]
  },
  {
   "cell_type": "code",
   "execution_count": null,
   "metadata": {},
   "outputs": [],
   "source": [
    "# Initial parameters\n",
    "speed = 0  # Initial speed\n",
    "acceleration = 2  # Acceleration rate in m/s^2\n",
    "deceleration = 1  # Deceleration rate in m/s^2\n",
    "max_speed = 60  # Maximum speed in m/s\n",
    "distance = 0  # Initial distance\n",
    "time = 0  # Initial time\n",
    "\n",
    "# Parameters\n",
    "desired_distance = 1000  # Distance goal in meters\n",
    "threshold_speed = 5  # Threshold speed in meters per second\n",
    "\n",
    "# Commence the vehicle's movement\n",
    "while distance < desired_distance and speed >= threshold_speed:\n",
    "    # Determine the distance traversed in this interval\n",
    "    travelled_distance = speed + 0.5 * acceleration * (time_interval ** 2)\n",
    "    \n",
    "    # Ascertain whether the vehicle has attained its top speed\n",
    "    if speed < peak_speed:\n",
    "        speed += acceleration * time_interval\n",
    "    else:\n",
    "        speed = peak_speed\n",
    "    \n",
    "    # Refresh the total distance and the elapsed time\n",
    "    distance += travelled_distance\n",
    "    elapsed_time += time_interval\n",
    "\n",
    "# Output the outcome\n",
    "if distance >= desired_distance:\n",
    "    print(f\"Distance travelled by the car: {distance:.2f} meters.\")\n",
    "    print(f\"Reached speed: {speed:.2f} m/s\")\n",
    "    print(f\"Duration: {elapsed_time} seconds\")\n",
    "else:\n",
    "    print(\"The car decelerated to under 5 m/s before achieving the 1000-meter mark.\")\n"
   ]
  }
 ],
 "metadata": {
  "kernelspec": {
   "display_name": "Python 3",
   "language": "python",
   "name": "python3"
  },
  "language_info": {
   "codemirror_mode": {
    "name": "ipython",
    "version": 3
   },
   "file_extension": ".py",
   "mimetype": "text/x-python",
   "name": "python",
   "nbconvert_exporter": "python",
   "pygments_lexer": "ipython3",
   "version": "3.10.12"
  },
  "orig_nbformat": 4
 },
 "nbformat": 4,
 "nbformat_minor": 2
}
