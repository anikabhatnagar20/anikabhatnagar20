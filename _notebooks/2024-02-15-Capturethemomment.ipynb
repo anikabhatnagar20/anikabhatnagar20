{
 "cells": [
  {
   "cell_type": "markdown",
   "metadata": {},
   "source": [
    "---\n",
    "toc: true\n",
    "comments: true\n",
    "layout: post\n",
    "title: Capture the Momment \n",
    "description: N@M Tri 2 \n",
    "courses: {'compsci': {'week': 20}}\n",
    "type: tangibles\n",
    "---"
   ]
  },
  {
   "cell_type": "markdown",
   "metadata": {},
   "source": [
    "# Capture the moment "
   ]
  },
  {
   "cell_type": "markdown",
   "metadata": {},
   "source": [
    "- a key thing we really need to grow on was more progress. We didn't have many features working which really limited what we could show in the demo. One thing that got alot of compliments was the look of our homepage. I added a collage from google to match the theme more and make it look more presentable, and I noticed people were complimenting that. \n",
    "- Something I want to add to the review feature for individaul CPT is make it more wide spread. Rather than having reviews under one account, every account has the same review database, but you need to enter your username with the review. This allows users to engage with other users so they can see what other people think about the books.\n",
    "- ![IMG_7255](https://github.com/anikabhatnagar20/anikabhatnagar20/assets/142547044/b5ff7bee-e453-41b3-95d7-958693f42826)\n",
    "- ![IMG_7258](https://github.com/anikabhatnagar20/anikabhatnagar20/assets/142547044/e13fff68-8e9d-4023-b3e4-a7ac2027fb25)\n",
    "this project really impressed me. I thought the idea was very unique. I think its really interesting how they are able to run whole videos on their site. \n",
    "- <img width=\"233\" alt=\"image\" src=\"https://github.com/anikabhatnagar20/anikabhatnagar20/assets/142547044/7be338c7-b1b9-482a-b25b-84d57945dccb\"> \n",
    "This was from ceremics. I think its very nice and clear that teh artist put in alot of hard work to create it! "
   ]
  }
 ],
 "metadata": {
  "language_info": {
   "name": "python"
  },
  "orig_nbformat": 4
 },
 "nbformat": 4,
 "nbformat_minor": 2
}
